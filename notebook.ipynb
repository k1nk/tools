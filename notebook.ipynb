{
 "cells": [
  {
   "cell_type": "markdown",
   "metadata": {},
   "source": [
    "## シンプルな例\n",
    "ウエイト（w）にランダムな入力値(n)をかけた場合と、ウエイトの符号(e)をかけた場合とで値を比較してみましょう。"
   ]
  },
  {
   "cell_type": "code",
   "execution_count": 3,
   "metadata": {},
   "outputs": [
    {
     "name": "stdout",
     "output_type": "stream",
     "text": [
      "('e:', array([-1.,  1., -1.,  1., -1.,  1., -1.,  1., -1.,  1.]))\n",
      "('w dot n:', 0.30000000000000004)\n",
      "('w dot e:', 4.5)\n"
     ]
    }
   ],
   "source": [
    "import numpy as np\n",
    "\n",
    "w = np.array([-0.4, 0.5, -0.2, 0.4, -0.3, 0.6, -0.4, 0.1, -0.9, 0.7])\n",
    "n = np.array([-1.0, -1.0, -1.0, 1.0, 1.0, -1.0, -1.0, 1.0, -1.0, -1.0]) # Random\n",
    "e = np.sign(w)\n",
    "\n",
    "print('e:', e)\n",
    "print('w dot n:', np.dot(w, n))\n",
    "print('w dot e:', np.dot(w, e))"
   ]
  },
  {
   "cell_type": "markdown",
   "metadata": {
    "_cell_guid": "e355df2d-ac50-44bb-bd2d-c74b0788e684",
    "_execution_state": "idle",
    "_uuid": "dd7d4793fa65476631f78441818c25832b98fb50"
   },
   "source": [
    "## 敵対的サンプルの作成\n",
    "\n",
    "ここでは、０から９のOCRイメージをmulticlass logistic regressionによって分類するモデルに対して、敵対的サンプルの作成を行います。"
   ]
  },
  {
   "cell_type": "markdown",
   "metadata": {
    "_cell_guid": "d746e523-67f5-46b4-a0fc-8611cbc02e2d",
    "_uuid": "0b1a679918e749283c22f627d6df89f3af35e951"
   },
   "source": [
    "## 目次\n",
    "\n",
    "* データとパッケージの読み込み\n",
    "* 攻撃用のメソッドとクラス\n",
    "* モデルを訓練する\n",
    "* Non-Targeted-Attack: \n",
    "    * 正しいラベルへ分類されないようにする\n",
    "    * 間違えやすい数\n",
    "*　傾きの符号をとる\n",
    "* まとめ"
   ]
  },
  {
   "cell_type": "markdown",
   "metadata": {
    "_cell_guid": "cbbf0e2f-7721-4547-8943-c72c7b8b935c",
    "_uuid": "20f2087b01f05a02c802694920aa660e44d97bb0"
   },
   "source": [
    "## パッケージの読み込み"
   ]
  },
  {
   "cell_type": "code",
   "execution_count": 4,
   "metadata": {
    "_cell_guid": "bc70953a-0e83-4581-8390-e8bef8f3c092",
    "_execution_state": "idle",
    "_uuid": "1ca8c05008e02ffb425117e95e9b53221b2a3717",
    "collapsed": true
   },
   "outputs": [],
   "source": [
    "from sklearn.linear_model import LogisticRegression\n",
    "from sklearn import datasets as dt\n",
    "from sklearn.metrics import accuracy_score\n",
    "from sklearn.model_selection import train_test_split\n",
    "from sklearn.discriminant_analysis import LinearDiscriminantAnalysis as LDA\n",
    "\n",
    "import pandas as pd\n",
    "import numpy as np\n",
    "import seaborn as sns\n",
    "\n",
    "#import plotly.offline as py\n",
    "#py.init_notebook_mode(connected=True)\n",
    "#import plotly.graph_objs as go\n",
    "#import plotly.tools as tls\n",
    "\n",
    "import matplotlib.image as mpimg\n",
    "import matplotlib.pyplot as plt\n",
    "import matplotlib\n",
    "%matplotlib inline\n",
    "\n",
    "from skimage.io import imread, imshow"
   ]
  },
  {
   "cell_type": "markdown",
   "metadata": {
    "_cell_guid": "c863d722-33b0-40cf-bac5-23ff40b0bf61",
    "_uuid": "f6ccc694a5a23c4599effb19e6ed99be37b588a9"
   },
   "source": [
    "## データの読み込み、内容の確認\n",
    "\n",
    "今回使うデータを読み込み、その先頭の内容を確認します。"
   ]
  },
  {
   "cell_type": "code",
   "execution_count": 5,
   "metadata": {
    "_cell_guid": "487b5a94-2ee7-4e8d-a6a1-2db33cf1e229",
    "_execution_state": "idle",
    "_uuid": "c6a722537925697fcd66c70d0827e6b3fa3d4e43"
   },
   "outputs": [
    {
     "name": "stdout",
     "output_type": "stream",
     "text": [
      "sample_submission.csv\n",
      "test.csv\n",
      "train.csv\n",
      "\n"
     ]
    }
   ],
   "source": [
    "from subprocess import check_output\n",
    "print(check_output([\"ls\", \"input/digit-recognizer\"]).decode(\"utf8\"))"
   ]
  },
  {
   "cell_type": "code",
   "execution_count": 6,
   "metadata": {
    "_cell_guid": "21c7aed6-1e25-4e1d-9cd1-e0b315ac309e",
    "_execution_state": "idle",
    "_uuid": "08fc0af13cc8650f7d25a2207a78e5c386fe1043",
    "scrolled": true
   },
   "outputs": [
    {
     "data": {
      "text/html": [
       "<div>\n",
       "<style>\n",
       "    .dataframe thead tr:only-child th {\n",
       "        text-align: right;\n",
       "    }\n",
       "\n",
       "    .dataframe thead th {\n",
       "        text-align: left;\n",
       "    }\n",
       "\n",
       "    .dataframe tbody tr th {\n",
       "        vertical-align: top;\n",
       "    }\n",
       "</style>\n",
       "<table border=\"1\" class=\"dataframe\">\n",
       "  <thead>\n",
       "    <tr style=\"text-align: right;\">\n",
       "      <th></th>\n",
       "      <th>label</th>\n",
       "      <th>pixel0</th>\n",
       "      <th>pixel1</th>\n",
       "      <th>pixel2</th>\n",
       "      <th>pixel3</th>\n",
       "      <th>pixel4</th>\n",
       "      <th>pixel5</th>\n",
       "      <th>pixel6</th>\n",
       "      <th>pixel7</th>\n",
       "      <th>pixel8</th>\n",
       "      <th>...</th>\n",
       "      <th>pixel774</th>\n",
       "      <th>pixel775</th>\n",
       "      <th>pixel776</th>\n",
       "      <th>pixel777</th>\n",
       "      <th>pixel778</th>\n",
       "      <th>pixel779</th>\n",
       "      <th>pixel780</th>\n",
       "      <th>pixel781</th>\n",
       "      <th>pixel782</th>\n",
       "      <th>pixel783</th>\n",
       "    </tr>\n",
       "  </thead>\n",
       "  <tbody>\n",
       "    <tr>\n",
       "      <th>0</th>\n",
       "      <td>1</td>\n",
       "      <td>0</td>\n",
       "      <td>0</td>\n",
       "      <td>0</td>\n",
       "      <td>0</td>\n",
       "      <td>0</td>\n",
       "      <td>0</td>\n",
       "      <td>0</td>\n",
       "      <td>0</td>\n",
       "      <td>0</td>\n",
       "      <td>...</td>\n",
       "      <td>0</td>\n",
       "      <td>0</td>\n",
       "      <td>0</td>\n",
       "      <td>0</td>\n",
       "      <td>0</td>\n",
       "      <td>0</td>\n",
       "      <td>0</td>\n",
       "      <td>0</td>\n",
       "      <td>0</td>\n",
       "      <td>0</td>\n",
       "    </tr>\n",
       "    <tr>\n",
       "      <th>1</th>\n",
       "      <td>0</td>\n",
       "      <td>0</td>\n",
       "      <td>0</td>\n",
       "      <td>0</td>\n",
       "      <td>0</td>\n",
       "      <td>0</td>\n",
       "      <td>0</td>\n",
       "      <td>0</td>\n",
       "      <td>0</td>\n",
       "      <td>0</td>\n",
       "      <td>...</td>\n",
       "      <td>0</td>\n",
       "      <td>0</td>\n",
       "      <td>0</td>\n",
       "      <td>0</td>\n",
       "      <td>0</td>\n",
       "      <td>0</td>\n",
       "      <td>0</td>\n",
       "      <td>0</td>\n",
       "      <td>0</td>\n",
       "      <td>0</td>\n",
       "    </tr>\n",
       "    <tr>\n",
       "      <th>2</th>\n",
       "      <td>1</td>\n",
       "      <td>0</td>\n",
       "      <td>0</td>\n",
       "      <td>0</td>\n",
       "      <td>0</td>\n",
       "      <td>0</td>\n",
       "      <td>0</td>\n",
       "      <td>0</td>\n",
       "      <td>0</td>\n",
       "      <td>0</td>\n",
       "      <td>...</td>\n",
       "      <td>0</td>\n",
       "      <td>0</td>\n",
       "      <td>0</td>\n",
       "      <td>0</td>\n",
       "      <td>0</td>\n",
       "      <td>0</td>\n",
       "      <td>0</td>\n",
       "      <td>0</td>\n",
       "      <td>0</td>\n",
       "      <td>0</td>\n",
       "    </tr>\n",
       "    <tr>\n",
       "      <th>3</th>\n",
       "      <td>4</td>\n",
       "      <td>0</td>\n",
       "      <td>0</td>\n",
       "      <td>0</td>\n",
       "      <td>0</td>\n",
       "      <td>0</td>\n",
       "      <td>0</td>\n",
       "      <td>0</td>\n",
       "      <td>0</td>\n",
       "      <td>0</td>\n",
       "      <td>...</td>\n",
       "      <td>0</td>\n",
       "      <td>0</td>\n",
       "      <td>0</td>\n",
       "      <td>0</td>\n",
       "      <td>0</td>\n",
       "      <td>0</td>\n",
       "      <td>0</td>\n",
       "      <td>0</td>\n",
       "      <td>0</td>\n",
       "      <td>0</td>\n",
       "    </tr>\n",
       "    <tr>\n",
       "      <th>4</th>\n",
       "      <td>0</td>\n",
       "      <td>0</td>\n",
       "      <td>0</td>\n",
       "      <td>0</td>\n",
       "      <td>0</td>\n",
       "      <td>0</td>\n",
       "      <td>0</td>\n",
       "      <td>0</td>\n",
       "      <td>0</td>\n",
       "      <td>0</td>\n",
       "      <td>...</td>\n",
       "      <td>0</td>\n",
       "      <td>0</td>\n",
       "      <td>0</td>\n",
       "      <td>0</td>\n",
       "      <td>0</td>\n",
       "      <td>0</td>\n",
       "      <td>0</td>\n",
       "      <td>0</td>\n",
       "      <td>0</td>\n",
       "      <td>0</td>\n",
       "    </tr>\n",
       "  </tbody>\n",
       "</table>\n",
       "<p>5 rows × 785 columns</p>\n",
       "</div>"
      ],
      "text/plain": [
       "   label  pixel0  pixel1  pixel2  pixel3  pixel4  pixel5  pixel6  pixel7  \\\n",
       "0      1       0       0       0       0       0       0       0       0   \n",
       "1      0       0       0       0       0       0       0       0       0   \n",
       "2      1       0       0       0       0       0       0       0       0   \n",
       "3      4       0       0       0       0       0       0       0       0   \n",
       "4      0       0       0       0       0       0       0       0       0   \n",
       "\n",
       "   pixel8    ...     pixel774  pixel775  pixel776  pixel777  pixel778  \\\n",
       "0       0    ...            0         0         0         0         0   \n",
       "1       0    ...            0         0         0         0         0   \n",
       "2       0    ...            0         0         0         0         0   \n",
       "3       0    ...            0         0         0         0         0   \n",
       "4       0    ...            0         0         0         0         0   \n",
       "\n",
       "   pixel779  pixel780  pixel781  pixel782  pixel783  \n",
       "0         0         0         0         0         0  \n",
       "1         0         0         0         0         0  \n",
       "2         0         0         0         0         0  \n",
       "3         0         0         0         0         0  \n",
       "4         0         0         0         0         0  \n",
       "\n",
       "[5 rows x 785 columns]"
      ]
     },
     "execution_count": 6,
     "metadata": {},
     "output_type": "execute_result"
    }
   ],
   "source": [
    "df = pd.read_csv(\"input/digit-recognizer/train.csv\")\n",
    "df.head()"
   ]
  },
  {
   "cell_type": "markdown",
   "metadata": {},
   "source": [
    "## データの構造\n",
    "ラベル（label）は、数字の０~９を表します。pixcel0からpixcel783は、２８×２８の画像の値を表します。\n",
    "例えば、pixel31画像の上から２行目、左から４番目の画像の値を表します。28×(2-1)+(4-1)=31\n",
    "画像の値は、０~２５５で、値が少ない方がより明るく、多い方がより暗いことを表します。\n",
    "\n",
    "yはラベルの値とします。\n",
    "Xは、データdfからlabelの列を削除したものとします。\n",
    "そして、Xとyを訓練用データとテストデータに区分します。全体の４０％をテストデータとします。"
   ]
  },
  {
   "cell_type": "code",
   "execution_count": 7,
   "metadata": {
    "_cell_guid": "692864db-8c5a-4cb5-ab38-7347364f05fd",
    "_execution_state": "idle",
    "_uuid": "0d9eae00137ebfc5f4bf37c24b7630491acc7059",
    "collapsed": true
   },
   "outputs": [],
   "source": [
    "y = df.label.values\n",
    "X = df.drop(\"label\",axis=1).values\n",
    "X_train, X_test, y_train, y_test = train_test_split(X, y, test_size=0.4)"
   ]
  },
  {
   "cell_type": "markdown",
   "metadata": {
    "_cell_guid": "cfb1e742-c6d1-4630-a170-c5d3fa658649",
    "_uuid": "5918a034cd5e580d744ba56597637cd9549972a1"
   },
   "source": [
    "テスト用データの最初の１５文字の内容を見てみましょう。"
   ]
  },
  {
   "cell_type": "code",
   "execution_count": 8,
   "metadata": {
    "_cell_guid": "695f1427-1925-460f-b495-498795788572",
    "_execution_state": "idle",
    "_uuid": "6479e12ade27f0932ec149cad7b7fc488f8d12cf"
   },
   "outputs": [
    {
     "data": {
      "image/png": "[encoded data removed]",
      "text/plain": [
       "<matplotlib.figure.Figure at 0x7fe981840510>"
      ]
     },
     "metadata": {},
     "output_type": "display_data"
    }
   ],
   "source": [
    "fig1, ax1 = plt.subplots(1,15, figsize=(15,10))\n",
    "for i in range(15):\n",
    "    ax1[i].imshow(X_test[i].reshape((28,28)))\n",
    "    ax1[i].axis('off')\n",
    "    ax1[i].set_title(y_test[i])"
   ]
  },
  {
   "cell_type": "markdown",
   "metadata": {
    "_cell_guid": "ba0d171f-788d-43cc-a17b-66a4ed6ab583",
    "_uuid": "744cee6d8f4ccf3f960e0365d4b6286a67327bc8"
   },
   "source": [
    "一部、人間にとっても判別しずらい文字があるようです。"
   ]
  },
  {
   "cell_type": "markdown",
   "metadata": {
    "_cell_guid": "31927fcd-d45f-42fc-82bc-32052e029601",
    "_execution_state": "idle",
    "_uuid": "c6a26adf8bf68097202c8df4f0bc26311aeb3456"
   },
   "source": [
    "## コード　attack用の関数とクラス"
   ]
  },
  {
   "cell_type": "markdown",
   "metadata": {
    "_cell_guid": "915db0f1-ae8c-407c-9c9b-9f76ec042b8c",
    "_uuid": "405f1b87ed32bf2a872e01be1493c25aa7745e3b"
   },
   "source": [
    "### Attack用関数"
   ]
  },
  {
   "cell_type": "code",
   "execution_count": 9,
   "metadata": {
    "_cell_guid": "6529c8b8-bb06-483b-a5d5-648aebd388f6",
    "_execution_state": "idle",
    "_uuid": "5546e41f11c910868d1c83c0578aa1607c27ad67",
    "collapsed": true
   },
   "outputs": [],
   "source": [
    "def calc_output_weighted_weights(output, w):\n",
    "    for c in range(len(output)):\n",
    "        if c == 0:\n",
    "            weighted_weights = output[c] * w[c]\n",
    "        else:\n",
    "            weighted_weights += output[c] * w[c]\n",
    "    return weighted_weights\n",
    "\n",
    "def targeted_gradient(foolingtarget, output, w):\n",
    "    ww = calc_output_weighted_weights(output, w)\n",
    "    for k in range(len(output)):\n",
    "        if k == 0:\n",
    "            gradient = foolingtarget[k] * (w[k]-ww)\n",
    "        else:\n",
    "            gradient += foolingtarget[k] * (w[k]-ww)\n",
    "    return gradient\n",
    "\n",
    "def non_targeted_gradient(target, output, w):\n",
    "    ww = calc_output_weighted_weights(output, w)\n",
    "    for k in range(len(target)):\n",
    "        if k == 0:\n",
    "            gradient = (1-target[k]) * (w[k]-ww)\n",
    "        else:\n",
    "            gradient += (1-target[k]) * (w[k]-ww)\n",
    "    return gradient\n",
    "\n",
    "def non_targeted_sign_gradient(target, output, w):\n",
    "    gradient = non_targeted_gradient(target, output, w)\n",
    "    return np.sign(gradient)"
   ]
  },
  {
   "cell_type": "markdown",
   "metadata": {
    "_cell_guid": "dee87868-c3dd-4fb3-b802-8164caca49a4",
    "_uuid": "e97e4ed951040c821ce85a591cb8c694ae66c7b4"
   },
   "source": [
    "### Attack用クラス\n",
    "クラスの初期化時に__init__でモデルを読み込みます。\n",
    "prepareメソッドで、モデルの訓練およびテストを行います。"
   ]
  },
  {
   "cell_type": "code",
   "execution_count": 10,
   "metadata": {
    "_cell_guid": "3ef66832-11f7-4a10-b20e-d69c74a43e4a",
    "_execution_state": "idle",
    "_uuid": "e414d07a3570fb6d0fe62103df3f700dafbcd258",
    "collapsed": true
   },
   "outputs": [],
   "source": [
    "class Attack:\n",
    "\n",
    "    def __init__(self, model):\n",
    "        self.fooling_targets = None\n",
    "        self.model = model\n",
    "    \n",
    "    def prepare(self, X_train, y_train, X_test, y_test):\n",
    "        self.images = X_test\n",
    "        self.true_targets = y_test\n",
    "        self.num_samples = X_test.shape[0]\n",
    "        self.train(X_train, y_train)\n",
    "        print(\"Model training finished.\")\n",
    "        self.test(X_test, y_test)\n",
    "        print(\"Model testing finished. Initial accuracy score: \" + str(self.initial_score))\n",
    "    \n",
    "    def set_fooling_targets(self, fooling_targets):\n",
    "        self.fooling_targets = fooling_targets\n",
    "        \n",
    "    def train(self, X_train, y_train):\n",
    "        self.model.fit(X_train, y_train)\n",
    "        self.weights = self.model.coef_\n",
    "        self.num_classes = self.weights.shape[0]\n",
    "\n",
    "    def test(self, X_test, y_test):\n",
    "        self.preds = self.model.predict(X_test)\n",
    "        self.preds_proba = self.model.predict_proba(X_test)\n",
    "        self.initial_score = accuracy_score(y_test, self.preds)\n",
    "    \n",
    "    def create_one_hot_targets(self, targets):\n",
    "        self.one_hot_targets = np.zeros(self.preds_proba.shape)\n",
    "        for n in range(targets.shape[0]):\n",
    "            self.one_hot_targets[n, targets[n]] = 1\n",
    "            \n",
    "    def attack(self, attackmethod, epsilon):\n",
    "        perturbed_images, highest_epsilon = self.perturb_images(epsilon, attackmethod)\n",
    "        perturbed_preds = self.model.predict(perturbed_images)\n",
    "        score = accuracy_score(self.true_targets, perturbed_preds)\n",
    "        return perturbed_images, perturbed_preds, score, highest_epsilon\n",
    "\n",
    "    def perturb_images(self, epsilon, gradient_method):\n",
    "        perturbed = np.zeros(self.images.shape)\n",
    "        max_perturbations = []\n",
    "        for n in range(self.images.shape[0]):\n",
    "            perturbation = self.get_perturbation(epsilon, gradient_method, self.one_hot_targets[n], self.preds_proba[n])\n",
    "            perturbed[n] = self.images[n] + perturbation\n",
    "            max_perturbations.append(np.max(perturbation))\n",
    "        highest_epsilon = np.max(np.array(max_perturbations))\n",
    "        return perturbed, highest_epsilon\n",
    "    \n",
    "    def get_perturbation(self, epsilon, gradient_method, target, pred_proba):\n",
    "        gradient = gradient_method(target, pred_proba, self.weights)\n",
    "        inf_norm = np.max(gradient)\n",
    "        perturbation = epsilon/inf_norm * gradient\n",
    "        return perturbation\n",
    "        \n",
    "    def attack_to_max_epsilon(self, attackmethod, max_epsilon):\n",
    "        self.max_epsilon = max_epsilon\n",
    "        self.scores = []\n",
    "        self.epsilons = []\n",
    "        self.perturbed_images_per_epsilon = []\n",
    "        self.perturbed_outputs_per_epsilon = []\n",
    "        for epsilon in range(0, self.max_epsilon):\n",
    "            print(\"calling attack with epsilon:\",epsilon)\n",
    "            perturbed_images, perturbed_preds, score, highest_epsilon = self.attack(attackmethod, epsilon)\n",
    "            self.epsilons.append(highest_epsilon)\n",
    "            self.scores.append(score)\n",
    "            self.perturbed_images_per_epsilon.append(perturbed_images)\n",
    "            self.perturbed_outputs_per_epsilon.append(perturbed_preds)\n",
    "        "
   ]
  },
  {
   "cell_type": "markdown",
   "metadata": {
    "_cell_guid": "b633f74c-8833-4be7-aa78-09081f4b612d",
    "_uuid": "e466a4d6b44b9077874749bf986f7d4a3146ff33"
   },
   "source": [
    "## モデルを訓練する\n",
    "\n",
    "multiclass logistic regression　のモデルを用意します。"
   ]
  },
  {
   "cell_type": "code",
   "execution_count": 11,
   "metadata": {
    "_cell_guid": "55e834b0-9fa4-4f2a-9a24-34130b54155e",
    "_execution_state": "idle",
    "_uuid": "cecf10684e01d0d1f70a7687a150f4af6961311c",
    "collapsed": true
   },
   "outputs": [],
   "source": [
    "model = LogisticRegression(multi_class='multinomial', solver='lbfgs', fit_intercept=False)"
   ]
  },
  {
   "cell_type": "markdown",
   "metadata": {
    "_cell_guid": "1af94c5e-20f2-4668-ad8e-09a6cf86d00e",
    "_uuid": "d005b92bd181ea337b3a75a10d42cc7a847aa063"
   },
   "source": [
    "用意したmodelをAttackクラスに渡して、Attackクラスのインスタンスを作成します。そして、prepareメソッドでモデルの訓練およびテストを行いまます。その際にテストデータを使った、当初のaccuracyを取得します。このスコアを後にテストデータにノイズを加えることにより低下させます。"
   ]
  },
  {
   "cell_type": "code",
   "execution_count": 12,
   "metadata": {
    "_cell_guid": "398d0ad7-42b6-4ebe-957d-f9a0a714fb51",
    "_execution_state": "idle",
    "_uuid": "5838fa53c94e550242436cc476ae963a8ab3442f"
   },
   "outputs": [
    {
     "name": "stdout",
     "output_type": "stream",
     "text": [
      "Model training finished.\n",
      "Model testing finished. Initial accuracy score: 0.913095238095\n"
     ]
    }
   ],
   "source": [
    "attack = Attack(model)\n",
    "attack.prepare(X_train, y_train, X_test, y_test)"
   ]
  },
  {
   "cell_type": "markdown",
   "metadata": {},
   "source": [
    "約９０％のデータが正しく分類されているようです。\n",
    "attack.imagesは、テスト用の画像データを表します。テストデータは１６８００あり、それそれ２８×２８＝７８４画素あります。"
   ]
  },
  {
   "cell_type": "code",
   "execution_count": 13,
   "metadata": {
    "_cell_guid": "ec2aa3f7-fe08-4406-8063-bb432a050181",
    "_uuid": "d2d870c2320fd5cb6c64caf1147201d452b390fa"
   },
   "outputs": [
    {
     "data": {
      "text/plain": [
       "(16800, 784)"
      ]
     },
     "execution_count": 13,
     "metadata": {},
     "output_type": "execute_result"
    }
   ],
   "source": [
    "attack.images.shape"
   ]
  },
  {
   "cell_type": "markdown",
   "metadata": {
    "_cell_guid": "52517038-c7c7-41cf-8950-26811694e2ee",
    "_uuid": "aa07a74d3bf760b92e8f3ddc396351cf42747922"
   },
   "source": [
    "attack.weightsは、モデルの重み（係数）を表します。各カテゴリーごとに画素数と同じ数の重みがあります。"
   ]
  },
  {
   "cell_type": "code",
   "execution_count": 14,
   "metadata": {
    "_cell_guid": "f50ad7d2-3b7c-4371-ab52-b55fff8efe2e",
    "_execution_state": "idle",
    "_uuid": "6278622538769c377689abf4036898cd43c8094a"
   },
   "outputs": [
    {
     "data": {
      "text/plain": [
       "(10, 784)"
      ]
     },
     "execution_count": 14,
     "metadata": {},
     "output_type": "execute_result"
    }
   ],
   "source": [
    "weights = attack.weights\n",
    "weights.shape"
   ]
  },
  {
   "cell_type": "markdown",
   "metadata": {
    "_cell_guid": "933989e0-004b-4b23-831d-9b7b0e264ca1",
    "_uuid": "c66d82eaa0038cba41f3bf9e8b43257dc21dd388"
   },
   "source": [
    "訓練用のデータに含まれるユニークなラベルの数は１０となっています。"
   ]
  },
  {
   "cell_type": "code",
   "execution_count": 15,
   "metadata": {
    "_cell_guid": "e444b1be-b561-49dc-9786-043f3b3dcdff",
    "_execution_state": "idle",
    "_uuid": "9f48657c0c7eeb5a088f0f75cfa6b3ef945b4efb"
   },
   "outputs": [
    {
     "data": {
      "text/plain": [
       "10"
      ]
     },
     "execution_count": 15,
     "metadata": {},
     "output_type": "execute_result"
    }
   ],
   "source": [
    "num_classes = len(np.unique(y_train))\n",
    "num_classes"
   ]
  },
  {
   "cell_type": "markdown",
   "metadata": {
    "_cell_guid": "b6234953-94cc-48ff-9e27-7668f46e15e0",
    "_uuid": "8ce8c9c442f93f56d229e201ca7d8acc0c10b949"
   },
   "source": [
    "## 正しいラベルへ分類されないようにする（Non-targeted Attack）\n"
   ]
  },
  {
   "cell_type": "markdown",
   "metadata": {
    "_cell_guid": "0400e84b-2aa9-4a0d-9770-96b3699e2d1c",
    "_uuid": "b51ccee09183e6aee7a87e410d0fad7f02260b48"
   },
   "source": [
    "### ノイズ（摂動、画素の濃淡のずれ）を加える"
   ]
  },
  {
   "cell_type": "markdown",
   "metadata": {
    "_cell_guid": "243afa5b-4e4e-45b9-831d-dda132b165d7",
    "_uuid": "0b5f78e4456a379e6fe8c62fad239ade0a6aa789"
   },
   "source": [
    "まず、テストデータのイメージに加えるノイズ（摂動、画素の濃淡のずれ）を計算します。ノイズは、それぞれの画素を少しだけ変化させたときに、画像の正解との不一致がどの程度大きくなるかという値（gradient）を画素毎に計算して、gradientの最大値が１となるように調整を行った上で、それに一定の係数（epsilon）を乗じて計算しています。結果として、各画素における濃淡のずれの最大値はepsilonとなります。係数（epsilon）を０〜２９まで変化させて、accuracyがどのように変化するかを記録します。"
   ]
  },
  {
   "cell_type": "code",
   "execution_count": 16,
   "metadata": {
    "_cell_guid": "dde231aa-12b5-47f2-8de0-c1cfdd60d519",
    "_execution_state": "idle",
    "_uuid": "c82590af33833f2567f0206f3f6137471fee1bf4"
   },
   "outputs": [
    {
     "name": "stdout",
     "output_type": "stream",
     "text": [
      "('calling attack with epsilon:', 0)\n",
      "('calling attack with epsilon:', 1)\n",
      "('calling attack with epsilon:', 2)\n",
      "('calling attack with epsilon:', 3)\n",
      "('calling attack with epsilon:', 4)\n",
      "('calling attack with epsilon:', 5)\n",
      "('calling attack with epsilon:', 6)\n",
      "('calling attack with epsilon:', 7)\n",
      "('calling attack with epsilon:', 8)\n",
      "('calling attack with epsilon:', 9)\n",
      "('calling attack with epsilon:', 10)\n",
      "('calling attack with epsilon:', 11)\n",
      "('calling attack with epsilon:', 12)\n",
      "('calling attack with epsilon:', 13)\n",
      "('calling attack with epsilon:', 14)\n",
      "('calling attack with epsilon:', 15)\n",
      "('calling attack with epsilon:', 16)\n",
      "('calling attack with epsilon:', 17)\n",
      "('calling attack with epsilon:', 18)\n",
      "('calling attack with epsilon:', 19)\n",
      "('calling attack with epsilon:', 20)\n",
      "('calling attack with epsilon:', 21)\n",
      "('calling attack with epsilon:', 22)\n",
      "('calling attack with epsilon:', 23)\n",
      "('calling attack with epsilon:', 24)\n",
      "('calling attack with epsilon:', 25)\n",
      "('calling attack with epsilon:', 26)\n",
      "('calling attack with epsilon:', 27)\n",
      "('calling attack with epsilon:', 28)\n",
      "('calling attack with epsilon:', 29)\n"
     ]
    }
   ],
   "source": [
    "attack.create_one_hot_targets(y_test)\n",
    "attack.attack_to_max_epsilon(non_targeted_gradient, 30)\n",
    "non_targeted_scores = attack.scores"
   ]
  },
  {
   "cell_type": "markdown",
   "metadata": {
    "_cell_guid": "babf47d9-5add-4453-abe2-0cbd478966c8",
    "_uuid": "8ef513bea5cba8730cf15bd8abfc2ae7bb8a5a05"
   },
   "source": [
    "epsilonとaccuracyをグラフにプロットしてみます。"
   ]
  },
  {
   "cell_type": "code",
   "execution_count": 17,
   "metadata": {
    "_cell_guid": "a33b845c-0dc6-4d49-babb-50ffa5572520",
    "_execution_state": "idle",
    "_uuid": "ab8237ddeeca26485ee6e2e66bb1a4a95ecb32cb"
   },
   "outputs": [
    {
     "data": {
      "text/plain": [
       "<matplotlib.text.Text at 0x7fe97b42d3d0>"
      ]
     },
     "execution_count": 17,
     "metadata": {},
     "output_type": "execute_result"
    },
    {
     "data": {
      "image/png": "[encoded data removed]",
      "text/plain": [
       "<matplotlib.figure.Figure at 0x7fe97b466b10>"
      ]
     },
     "metadata": {},
     "output_type": "display_data"
    }
   ],
   "source": [
    "plt.figure()\n",
    "plt.plot(attack.epsilons, attack.scores, 'g*')\n",
    "plt.ylabel('accuracy_score')\n",
    "plt.xlabel('epsilon')\n",
    "plt.title('Accuracy score breakdown - non-targeted attack')"
   ]
  },
  {
   "cell_type": "markdown",
   "metadata": {},
   "source": [
    "epsilonが１６の時に約４０％が正しく予測されています。epsilonが３０になると、テスト用データにおいて９０％誤って判定されます。epsilonが１６の時の攻撃の状況を詳しくみてみましょう。"
   ]
  },
  {
   "cell_type": "code",
   "execution_count": 18,
   "metadata": {
    "_cell_guid": "36a77cd4-90c1-4ed3-bb76-a153af0bf06a",
    "_execution_state": "idle",
    "_uuid": "5488992c63f23a1ceb054d9b2abb14461f042bdb"
   },
   "outputs": [
    {
     "data": {
      "text/plain": [
       "16.0"
      ]
     },
     "execution_count": 18,
     "metadata": {},
     "output_type": "execute_result"
    }
   ],
   "source": [
    "eps = 16\n",
    "attack.epsilons[eps]"
   ]
  },
  {
   "cell_type": "markdown",
   "metadata": {
    "_cell_guid": "8be8bee7-e497-4dce-b04a-c69fcb1da737",
    "_uuid": "eb6d99993025adab182e73bbed6d67192e291ddc"
   },
   "source": [
    "epsilonが１６の時の、ノイズを付加したイメージと、その時の予測結果（ラベル）を取得します。"
   ]
  },
  {
   "cell_type": "code",
   "execution_count": 19,
   "metadata": {
    "_cell_guid": "50bde7ea-a653-4358-8846-b09a2d98d4ed",
    "_execution_state": "idle",
    "_uuid": "6a63f4acd8e7318059d97e86cfaef351fdb71f34",
    "collapsed": true
   },
   "outputs": [],
   "source": [
    "example_images = attack.perturbed_images_per_epsilon[eps]\n",
    "example_preds = attack.perturbed_outputs_per_epsilon[eps]"
   ]
  },
  {
   "cell_type": "markdown",
   "metadata": {
    "_cell_guid": "17bd2225-5ee1-4515-9858-8f50f2eb1be4",
    "_uuid": "d28e5a106f3aaf1eb306dadc379ed60e4a61997c"
   },
   "source": [
    "結果をデータフレームに整理します。y_trueは、テストデータの真のラベルを、y_fooledは、ノイズを付加した画像により予測されたラベルを、y_predictedは、ノイズを付加する前の画像により予測されたラベルを表します。結果の先頭のデータを表示します。"
   ]
  },
  {
   "cell_type": "code",
   "execution_count": 20,
   "metadata": {
    "_cell_guid": "49cd9f0c-0ebc-44cf-a1ae-86ac6deb4bd6",
    "_execution_state": "idle",
    "_uuid": "5e50d8a32c92a86fe3d93580a3828da32cadfe6d"
   },
   "outputs": [
    {
     "data": {
      "text/html": [
       "<div>\n",
       "<style>\n",
       "    .dataframe thead tr:only-child th {\n",
       "        text-align: right;\n",
       "    }\n",
       "\n",
       "    .dataframe thead th {\n",
       "        text-align: left;\n",
       "    }\n",
       "\n",
       "    .dataframe tbody tr th {\n",
       "        vertical-align: top;\n",
       "    }\n",
       "</style>\n",
       "<table border=\"1\" class=\"dataframe\">\n",
       "  <thead>\n",
       "    <tr style=\"text-align: right;\">\n",
       "      <th></th>\n",
       "      <th>y_true</th>\n",
       "      <th>y_fooled</th>\n",
       "      <th>y_predicted</th>\n",
       "      <th>id</th>\n",
       "    </tr>\n",
       "  </thead>\n",
       "  <tbody>\n",
       "    <tr>\n",
       "      <th>0</th>\n",
       "      <td>4</td>\n",
       "      <td>4</td>\n",
       "      <td>4</td>\n",
       "      <td>0</td>\n",
       "    </tr>\n",
       "    <tr>\n",
       "      <th>1</th>\n",
       "      <td>7</td>\n",
       "      <td>2</td>\n",
       "      <td>4</td>\n",
       "      <td>1</td>\n",
       "    </tr>\n",
       "    <tr>\n",
       "      <th>2</th>\n",
       "      <td>2</td>\n",
       "      <td>3</td>\n",
       "      <td>2</td>\n",
       "      <td>2</td>\n",
       "    </tr>\n",
       "    <tr>\n",
       "      <th>3</th>\n",
       "      <td>3</td>\n",
       "      <td>3</td>\n",
       "      <td>3</td>\n",
       "      <td>3</td>\n",
       "    </tr>\n",
       "    <tr>\n",
       "      <th>4</th>\n",
       "      <td>2</td>\n",
       "      <td>2</td>\n",
       "      <td>2</td>\n",
       "      <td>4</td>\n",
       "    </tr>\n",
       "  </tbody>\n",
       "</table>\n",
       "</div>"
      ],
      "text/plain": [
       "   y_true  y_fooled  y_predicted  id\n",
       "0       4         4            4   0\n",
       "1       7         2            4   1\n",
       "2       2         3            2   2\n",
       "3       3         3            3   3\n",
       "4       2         2            2   4"
      ]
     },
     "execution_count": 20,
     "metadata": {},
     "output_type": "execute_result"
    }
   ],
   "source": [
    "example_results = pd.DataFrame(data=attack.true_targets, columns=['y_true'])\n",
    "example_results['y_fooled'] = example_preds\n",
    "example_results['y_predicted'] = attack.preds\n",
    "example_results['id'] = example_results.index.values\n",
    "example_results.head()"
   ]
  },
  {
   "cell_type": "markdown",
   "metadata": {},
   "source": [
    "真のラベルと、ノイズ付加により予測されたラベルとが異なるもの（うまくごまかしたもの）をsuccess_dfに保存します。先頭のデータを表示します。"
   ]
  },
  {
   "cell_type": "code",
   "execution_count": 21,
   "metadata": {
    "_cell_guid": "2cff8ade-eef2-4f85-ac5a-411f6af2cbe6",
    "_execution_state": "idle",
    "_uuid": "628ef80fd435adb9fd9d9fb602c7b2def02f9c1b"
   },
   "outputs": [
    {
     "data": {
      "text/html": [
       "<div>\n",
       "<style>\n",
       "    .dataframe thead tr:only-child th {\n",
       "        text-align: right;\n",
       "    }\n",
       "\n",
       "    .dataframe thead th {\n",
       "        text-align: left;\n",
       "    }\n",
       "\n",
       "    .dataframe tbody tr th {\n",
       "        vertical-align: top;\n",
       "    }\n",
       "</style>\n",
       "<table border=\"1\" class=\"dataframe\">\n",
       "  <thead>\n",
       "    <tr style=\"text-align: right;\">\n",
       "      <th></th>\n",
       "      <th>y_true</th>\n",
       "      <th>y_fooled</th>\n",
       "      <th>y_predicted</th>\n",
       "      <th>id</th>\n",
       "    </tr>\n",
       "  </thead>\n",
       "  <tbody>\n",
       "    <tr>\n",
       "      <th>1</th>\n",
       "      <td>7</td>\n",
       "      <td>2</td>\n",
       "      <td>4</td>\n",
       "      <td>1</td>\n",
       "    </tr>\n",
       "    <tr>\n",
       "      <th>2</th>\n",
       "      <td>2</td>\n",
       "      <td>3</td>\n",
       "      <td>2</td>\n",
       "      <td>2</td>\n",
       "    </tr>\n",
       "    <tr>\n",
       "      <th>6</th>\n",
       "      <td>3</td>\n",
       "      <td>8</td>\n",
       "      <td>3</td>\n",
       "      <td>6</td>\n",
       "    </tr>\n",
       "    <tr>\n",
       "      <th>7</th>\n",
       "      <td>9</td>\n",
       "      <td>4</td>\n",
       "      <td>9</td>\n",
       "      <td>7</td>\n",
       "    </tr>\n",
       "    <tr>\n",
       "      <th>8</th>\n",
       "      <td>8</td>\n",
       "      <td>1</td>\n",
       "      <td>3</td>\n",
       "      <td>8</td>\n",
       "    </tr>\n",
       "  </tbody>\n",
       "</table>\n",
       "</div>"
      ],
      "text/plain": [
       "   y_true  y_fooled  y_predicted  id\n",
       "1       7         2            4   1\n",
       "2       2         3            2   2\n",
       "6       3         8            3   6\n",
       "7       9         4            9   7\n",
       "8       8         1            3   8"
      ]
     },
     "execution_count": 21,
     "metadata": {},
     "output_type": "execute_result"
    }
   ],
   "source": [
    "success_df = example_results[example_results.y_fooled != example_results.y_true]\n",
    "success_df.head()"
   ]
  },
  {
   "cell_type": "markdown",
   "metadata": {
    "_cell_guid": "5b791596-caec-4a08-a7f9-e16f75d01f79",
    "_uuid": "c2446d6390df0c59acf1d81492b1f6b6f5fb1455"
   },
   "source": [
    "うまくごまかしたものの例を１つとって、関連するノイズを付加したイメージをepsilonを変えて表示してみましょう。 "
   ]
  },
  {
   "cell_type": "code",
   "execution_count": 22,
   "metadata": {
    "_cell_guid": "48f68809-43a7-4a24-b949-c093970a9437",
    "_execution_state": "idle",
    "_uuid": "ba80cab01d80d8b5685e98ce5e3b225e15d1cf20"
   },
   "outputs": [
    {
     "data": {
      "text/plain": [
       "1"
      ]
     },
     "execution_count": 22,
     "metadata": {},
     "output_type": "execute_result"
    }
   ],
   "source": [
    "example_id = success_df.id.values[0]\n",
    "example_id"
   ]
  },
  {
   "cell_type": "markdown",
   "metadata": {},
   "source": [
    "trueは真のラベルを、fooledはノイズを付加したイメージによるモデルの予測値を表します。"
   ]
  },
  {
   "cell_type": "code",
   "execution_count": 23,
   "metadata": {
    "_cell_guid": "850ec3a5-a332-41aa-b7cd-3d435336ddd7",
    "_execution_state": "idle",
    "_uuid": "16915e0cc91c906803a61640ba26142591091280",
    "scrolled": true
   },
   "outputs": [
    {
     "data": {
      "image/png": "[encoded data removed]",
      "text/plain": [
       "<matplotlib.figure.Figure at 0x7fe97b4bbe50>"
      ]
     },
     "metadata": {},
     "output_type": "display_data"
    }
   ],
   "source": [
    "fig2, ax2 = plt.subplots(4,4, figsize=(10,10))\n",
    "for i in range(4):\n",
    "    for j in range(4):\n",
    "        image = attack.perturbed_images_per_epsilon[i*4 + j][example_id]\n",
    "        y_fooled = attack.perturbed_outputs_per_epsilon[i*4 + j][example_id]\n",
    "        epsilon = attack.epsilons[i*4 +j]\n",
    "        ax2[i,j].imshow(image.reshape((28,28)))\n",
    "        ax2[i,j].axis('off')\n",
    "        ax2[i,j].set_title(\"true: \" + str(y_test[example_id]) + \", fooled: \" + str(y_fooled)  + \"\\n\" \n",
    "                           + \"epsilon: \" + str(epsilon))"
   ]
  },
  {
   "cell_type": "markdown",
   "metadata": {
    "_cell_guid": "8ef83b99-c96d-4291-bbbf-ffaddca88ab9",
    "_uuid": "123f61520916def391c1233e0416d58b772f3791"
   },
   "source": [
    "人間の目ではごまかした画像でも本物のように見えます！！。 一方で背景が濃くなっていることが判ります。epsilon が１６の時の実際の画像と、ごまかした画像との差をみてみましょう。"
   ]
  },
  {
   "cell_type": "code",
   "execution_count": 24,
   "metadata": {
    "_cell_guid": "f0291249-2815-4c1e-bc6a-901c2bdd2f47",
    "_execution_state": "idle",
    "_uuid": "bdbe09c9e03efde2af49099c95cd83645db68e5b"
   },
   "outputs": [
    {
     "data": {
      "text/plain": [
       "<matplotlib.text.Text at 0x7fe97a938990>"
      ]
     },
     "execution_count": 24,
     "metadata": {},
     "output_type": "execute_result"
    },
    {
     "data": {
      "image/png": "[encoded data removed]",
      "text/plain": [
       "<matplotlib.figure.Figure at 0x7fe97aaa5d10>"
      ]
     },
     "metadata": {},
     "output_type": "display_data"
    }
   ],
   "source": [
    "fig, (axA, axB, axC) = plt.subplots(1, 3, figsize=(15,5))\n",
    "axB.imshow(example_images[example_id].reshape((28,28)), cmap='Greens')\n",
    "axB.set_title(\"Non-targeted attack result: \" + str(example_preds[example_id]))\n",
    "axA.imshow(X_test[example_id].reshape((28,28)), cmap='Greens')\n",
    "axA.set_title(\"True label: \" + str(y_test[example_id]))\n",
    "axC.imshow((X_test[example_id]-example_images[example_id]).reshape((28,28)), cmap='Reds')\n",
    "axC.set_title(\"Perturbation: epsilon 16\")"
   ]
  },
  {
   "cell_type": "markdown",
   "metadata": {
    "_cell_guid": "2150fd1a-5717-4a4e-8b1b-1689dd3c03bc",
    "_execution_state": "idle",
    "_uuid": "3c3061bc08977563423846b218ee903ec2f6a9e9"
   },
   "source": [
    "### 間違えやすい数\n",
    "\n",
    "数字同士が似ているために、例えば本当は３なのにモデルが８であると誤って判定してしまうというように、攻撃によって結果として「誤って判定されやすい数」というものはあるのでしょうか。モデルの特性や訓練データの特性により、数字同士の判定の境界が適切でないために、訓練したモデル自体のがもともと、入力に対して誤って判定する領域をもっていることもありそうです。攻撃によって誤って判定を行ったケースで、誤ってどのような数字であると判定したのかを数えてみましょう。"
   ]
  },
  {
   "cell_type": "code",
   "execution_count": 25,
   "metadata": {
    "_cell_guid": "9a58deac-8ede-48a2-a353-1614d7edae56",
    "_execution_state": "idle",
    "_uuid": "dd50bcaf51f98491c2c517a6476d3b4e328c60cf"
   },
   "outputs": [
    {
     "data": {
      "text/plain": [
       "<matplotlib.axes._subplots.AxesSubplot at 0x7fe97b3d0350>"
      ]
     },
     "execution_count": 25,
     "metadata": {},
     "output_type": "execute_result"
    },
    {
     "data": {
      "image/png": "[encoded data removed]",
      "text/plain": [
       "<matplotlib.figure.Figure at 0x7fe97b412790>"
      ]
     },
     "metadata": {},
     "output_type": "display_data"
    }
   ],
   "source": [
    "plt.figure(figsize=(8,5))\n",
    "sns.countplot(x='y_fooled', data=example_results[example_results.y_true != example_results.y_fooled])"
   ]
  },
  {
   "cell_type": "markdown",
   "metadata": {
    "_cell_guid": "cc733bdd-bb3f-46db-94ca-cdf7febabf36",
    "_uuid": "fa304a9daf1d4cbdd95a359e73ee5825c2ca7fd3"
   },
   "source": [
    "攻撃によって、誤って８であると判定されことがもっとも多いようです。９ ， ３ ， ５， ２ であると誤って認識されることも多いようです。一方で、0, 1, 6 , 7 はそうでもないようです。もし、一定の数字がもともと誤って判定する領域をもっているならば、ごまかす前の画像にたいしても同じ傾向が見られるはずです。ごまかす前の画像について、誤ってどのような数であると判定されたかを数えてみましょう。"
   ]
  },
  {
   "cell_type": "code",
   "execution_count": 26,
   "metadata": {
    "_cell_guid": "9e46660d-99e9-460c-bcde-94c3d01c2251",
    "_execution_state": "idle",
    "_uuid": "c1dcda977d59668fa31b4882fec51b2930bb0086"
   },
   "outputs": [
    {
     "data": {
      "text/plain": [
       "(1460, 4)"
      ]
     },
     "execution_count": 26,
     "metadata": {},
     "output_type": "execute_result"
    }
   ],
   "source": [
    "wrong_predictions = example_results[example_results.y_true != example_results.y_predicted]\n",
    "wrong_predictions.shape"
   ]
  },
  {
   "cell_type": "code",
   "execution_count": 27,
   "metadata": {
    "_cell_guid": "4c5562f2-cbcb-42f7-b33b-3092649ad3a4",
    "_execution_state": "idle",
    "_uuid": "63da90b5890b9b4a4a9efc9b49a4f557c6ca1523"
   },
   "outputs": [
    {
     "data": {
      "text/plain": [
       "(16800, 784)"
      ]
     },
     "execution_count": 27,
     "metadata": {},
     "output_type": "execute_result"
    }
   ],
   "source": [
    "X_test.shape"
   ]
  },
  {
   "cell_type": "markdown",
   "metadata": {
    "_cell_guid": "bb259da0-7721-4180-b833-80efe1537ab6",
    "_uuid": "30f0bfc8f3a49e89098cdb1f40c584dcdb6a9d23"
   },
   "source": [
    "16800のデータのうち約 1600程度がもともと誤って判定されているようです。これは、当初のaccuracyが90 % であることと符合しします。それでは、どのような数字が誤りやすいのでしょうか。結果としてどのような数字であると誤認識されているでしょうか。"
   ]
  },
  {
   "cell_type": "code",
   "execution_count": 28,
   "metadata": {
    "_cell_guid": "131fdbd7-9e90-4f50-b46d-129403e9fd73",
    "_execution_state": "idle",
    "_uuid": "989368c698badd3b824ecfaf04a57db059547cf1"
   },
   "outputs": [
    {
     "data": {
      "text/plain": [
       "<matplotlib.axes._subplots.AxesSubplot at 0x7fe97a807650>"
      ]
     },
     "execution_count": 28,
     "metadata": {},
     "output_type": "execute_result"
    },
    {
     "data": {
      "image/png": "[encoded data removed]",
      "text/plain": [
       "<matplotlib.figure.Figure at 0x7fe97b382cd0>"
      ]
     },
     "metadata": {},
     "output_type": "display_data"
    }
   ],
   "source": [
    "plt.figure(figsize=(8,5))\n",
    "sns.countplot(x='y_predicted', data=wrong_predictions)"
   ]
  },
  {
   "cell_type": "markdown",
   "metadata": {
    "_cell_guid": "cfe6a812-c679-48a0-8a82-627b305ed044",
    "_uuid": "dc278495378b9a565803f6cba55fecf15d404108"
   },
   "source": [
    "やはり似た傾向がみられます。数字の誤認識は、モデル自体がもつ、数字同士を判定する境界設定の難しさに由来する部分があるようです。では、正しくはどのような数字であったものが誤認されたのでしょうか。"
   ]
  },
  {
   "cell_type": "code",
   "execution_count": 29,
   "metadata": {
    "_cell_guid": "ec52935f-ec3e-4966-87f5-3474eebd23e9",
    "_execution_state": "idle",
    "_uuid": "d0486299bde081f8ea34bc85a2a5a1fba67716bb"
   },
   "outputs": [
    {
     "data": {
      "text/plain": [
       "<matplotlib.axes._subplots.AxesSubplot at 0x7fe97a6904d0>"
      ]
     },
     "execution_count": 29,
     "metadata": {},
     "output_type": "execute_result"
    },
    {
     "data": {
      "image/png": "[encoded data removed]",
      "text/plain": [
       "<matplotlib.figure.Figure at 0x7fe97a6b0550>"
      ]
     },
     "metadata": {},
     "output_type": "display_data"
    }
   ],
   "source": [
    "plt.figure(figsize=(8,5))\n",
    "sns.countplot(x='y_true', data=wrong_predictions)"
   ]
  },
  {
   "cell_type": "markdown",
   "metadata": {
    "_cell_guid": "f048ecfa-f8ae-4215-93bb-74fbb1fe433e",
    "_uuid": "789e40f6a6dc68011d10012b410c8a0571d493bc"
   },
   "source": [
    "最後に、正しい数字とごまかされた後の数字との集計をとってみましょう。"
   ]
  },
  {
   "cell_type": "code",
   "execution_count": 30,
   "metadata": {
    "_cell_guid": "14fc9785-cc79-453a-af63-c6391bcd47dc",
    "_execution_state": "idle",
    "_uuid": "de0c2c38c9dd0168195a71791e2387fbee15c23a"
   },
   "outputs": [
    {
     "data": {
      "text/plain": [
       "<matplotlib.axes._subplots.AxesSubplot at 0x7fe97a65da10>"
      ]
     },
     "execution_count": 30,
     "metadata": {},
     "output_type": "execute_result"
    },
    {
     "data": {
      "image/png": "[encoded data removed]",
      "text/plain": [
       "<matplotlib.figure.Figure at 0x7fe97b410810>"
      ]
     },
     "metadata": {},
     "output_type": "display_data"
    }
   ],
   "source": [
    "attacktargets = example_results[example_results.y_true != example_results.y_fooled].groupby('y_true').y_fooled.value_counts().unstack()\n",
    "attacktargets = attacktargets.fillna(0.0)\n",
    "\n",
    "f, ax = plt.subplots(figsize=(12, 10))\n",
    "sns.heatmap(attacktargets, annot=True, ax=ax)"
   ]
  },
  {
   "cell_type": "markdown",
   "metadata": {
    "_cell_guid": "7cf3f365-9e98-42c8-b67a-1de9c70cde0f",
    "_uuid": "e9f66adbc62e0a68324ca0e2cf513a964a767490"
   },
   "source": [
    "それぞれの数字ごとに、ごまかしやすい相手の数字というものを持っていることが判ります。"
   ]
  },
  {
   "cell_type": "markdown",
   "metadata": {
    "_cell_guid": "a1730861-920b-4044-a474-5db79f67c644",
    "_uuid": "4dbcf9cee5ca5f8d8f73759bdcb938707a7648af"
   },
   "source": [
    "## 傾き(gradient)の符号をとる"
   ]
  },
  {
   "cell_type": "markdown",
   "metadata": {
    "_cell_guid": "d9478884-e873-47a1-b0cd-8cb0ca7b1903",
    "_uuid": "0e25368e2d4f51105e839fcd2af4b5dcbd8a6827"
   },
   "source": [
    "いままでは、テストデータのイメージに加えるノイズ（摂動、画素の濃淡のずれ）を計算します。ノイズは、それぞれの画素を少しだけ変化させたときに、画像の正解との不一致がどの程度大きくなるかという値（gradient）を画素毎に計算して、gradientの最大値が１となるように調整を行った上で、それに一定の係数（epsilon）を乗じて計算していました。ここでは、gradientのかわりに、gradientの符号（＋１またはー１）を用いてノイズを計算してみましょう。"
   ]
  },
  {
   "cell_type": "code",
   "execution_count": 31,
   "metadata": {
    "_cell_guid": "b095d974-2401-4700-adef-86cbeeffa4e6",
    "_execution_state": "idle",
    "_uuid": "24daf535a94bd1672f205ca6ad71ccbb74bd6da7"
   },
   "outputs": [
    {
     "name": "stdout",
     "output_type": "stream",
     "text": [
      "('calling attack with epsilon:', 0)\n",
      "('calling attack with epsilon:', 1)\n",
      "('calling attack with epsilon:', 2)\n",
      "('calling attack with epsilon:', 3)\n",
      "('calling attack with epsilon:', 4)\n",
      "('calling attack with epsilon:', 5)\n",
      "('calling attack with epsilon:', 6)\n",
      "('calling attack with epsilon:', 7)\n",
      "('calling attack with epsilon:', 8)\n",
      "('calling attack with epsilon:', 9)\n",
      "('calling attack with epsilon:', 10)\n",
      "('calling attack with epsilon:', 11)\n",
      "('calling attack with epsilon:', 12)\n",
      "('calling attack with epsilon:', 13)\n",
      "('calling attack with epsilon:', 14)\n",
      "('calling attack with epsilon:', 15)\n",
      "('calling attack with epsilon:', 16)\n",
      "('calling attack with epsilon:', 17)\n",
      "('calling attack with epsilon:', 18)\n",
      "('calling attack with epsilon:', 19)\n",
      "('calling attack with epsilon:', 20)\n",
      "('calling attack with epsilon:', 21)\n",
      "('calling attack with epsilon:', 22)\n",
      "('calling attack with epsilon:', 23)\n",
      "('calling attack with epsilon:', 24)\n",
      "('calling attack with epsilon:', 25)\n",
      "('calling attack with epsilon:', 26)\n",
      "('calling attack with epsilon:', 27)\n",
      "('calling attack with epsilon:', 28)\n",
      "('calling attack with epsilon:', 29)\n"
     ]
    }
   ],
   "source": [
    "attack.create_one_hot_targets(y_test)\n",
    "attack.attack_to_max_epsilon(non_targeted_sign_gradient, 30)"
   ]
  },
  {
   "cell_type": "code",
   "execution_count": 32,
   "metadata": {
    "_cell_guid": "d19b486e-f624-42c0-a307-88d5912e0950",
    "_execution_state": "idle",
    "_uuid": "3341d04deed2974333d470355c8ae076bed038d1"
   },
   "outputs": [
    {
     "data": {
      "text/plain": [
       "<matplotlib.text.Text at 0x7fe97a260a10>"
      ]
     },
     "execution_count": 32,
     "metadata": {},
     "output_type": "execute_result"
    },
    {
     "data": {
      "image/png": "[encoded data removed]",
      "text/plain": [
       "<matplotlib.figure.Figure at 0x7fe97a595410>"
      ]
     },
     "metadata": {},
     "output_type": "display_data"
    }
   ],
   "source": [
    "plt.figure()\n",
    "gm, = plt.plot(attack.epsilons, non_targeted_scores, 'g*', label='gradient method')\n",
    "gsm, = plt.plot(attack.epsilons, attack.scores, 'r*', label='gradient sign method')\n",
    "plt.ylabel('accuracy_score')\n",
    "plt.xlabel('epsilons')\n",
    "plt.legend(handles=[gm, gsm])\n",
    "plt.title('Accuracy score breakdown')"
   ]
  },
  {
   "cell_type": "markdown",
   "metadata": {
    "_cell_guid": "34483793-364e-4b4a-a867-c12cc02bdc04",
    "_uuid": "247084eaf01a5d3332b528406c95479eee3535c5"
   },
   "source": [
    "符号を用いたほうが、少ないepsilonでaccuracyが低下しています。符号を用いることにより、結果として個々の画素の全てにepsilonだけ符号方向にずれが生じることになるため、同じepsilonで比較した場合には、符号を用いる方が当然誤差が大きくなります。この方法は、発見されないための濃淡のずれの最大値というものがあり、その範囲内で調整する必要があるという場合に、有効な手法であると考えられます。あるいは、同じだけaccuracyを低下させるために必要な最大の濃淡のずれをより少なくできると考えることもできます。"
   ]
  },
  {
   "cell_type": "markdown",
   "metadata": {
    "_cell_guid": "e95daec7-22ea-4613-9050-a394d79017b5",
    "_uuid": "72e3f2e1b1baa83f51a1bec36578da3a27dec690"
   },
   "source": [
    "# まとめ\n",
    "\n",
    "1. モデルの構造やウエイトを知ることができる場合には、ターゲットとモデルの出力と正解との違いをを最大化するように、画像（入力）に変化を加えることにより、モデルに間違った判定をさせることができる。(モデルの構造やウエイトを知らない場合でも、可能ですが、それは別のトピックになります。)\n",
    "2. 間違いは、モデルが判定の境界をうまく設定することができないことにより生じる。これは、モデルの構造や柔軟性、あるいは、モデル作成のための入力データの質や処理方法により左右される。\n",
    "3. モデルが判定の境界を設定する際に、特定のカテゴリ（数字）相互に境界が近いものがあるために、もともと間違いやすい数字あるいは数字の組み合わせがある。\n",
    "4. 傾きの符号をとることにより、一定の条件を満たす場合に、効果的にモデルをだますことができる。\n",
    "5. このような攻撃は、ネットワークの線形性に由来しているものである。画像のカテゴリ分けだけでなく、より幅広い分野で応用される可能性が高いので注意が必要である。"
   ]
  }
 ],
 "metadata": {
  "kernelspec": {
   "display_name": "Python 3",
   "language": "python",
   "name": "python3"
  },
  "language_info": {
   "codemirror_mode": {
    "name": "ipython",
    "version": 3
   },
   "file_extension": ".py",
   "mimetype": "text/x-python",
   "name": "python",
   "nbconvert_exporter": "python",
   "pygments_lexer": "ipython3",
   "version": "3.6.1"
  }
 },
 "nbformat": 4,
 "nbformat_minor": 1
}
